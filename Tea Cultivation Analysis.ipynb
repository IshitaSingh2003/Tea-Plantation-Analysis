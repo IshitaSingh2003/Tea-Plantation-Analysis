{
 "cells": [
  {
   "cell_type": "markdown",
   "id": "83579ebe",
   "metadata": {},
   "source": [
    "### Classification of Vegetation"
   ]
  },
  {
   "cell_type": "code",
   "execution_count": null,
   "id": "74066b02",
   "metadata": {},
   "outputs": [],
   "source": [
    "import geopandas as gpd\n",
    "import rasterio\n",
    "import numpy as np\n",
    "\n",
    "# Read DSM, DTM, and Orthomosaic files\n",
    "dsm_path = r'C:\\Users\\singh\\SURINOVA_CBE_DSM.tif'\n",
    "dtm_path = r'C:\\Users\\singh\\SURINOVA_CBE_DTM.tif'\n",
    "ortho_path = r'C:\\Users\\singh\\SURINOVA_CBE_ORTHO.tif' \n",
    "\n",
    "dsm = rasterio.open(dsm_path)\n",
    "dtm = rasterio.open(dtm_path)\n",
    "ortho = rasterio.open(ortho_path)\n",
    "\n",
    "# Calculate the Normalized Difference Vegetation Index (NDVI)\n",
    "ndvi = np.true_divide(ortho.read(1) - dtm.read(1), ortho.read(1) + dtm.read(1))\n",
    "\n",
    "# Apply a threshold to separate vegetation from non-vegetation\n",
    "veg_mask = np.where(ndvi > 0.2, 1, 0)\n",
    "\n",
    "# Create a GeoDataFrame with the vegetation polygons\n",
    "polygons = ...\n",
    "gdf = gpd.GeoDataFrame(geometry=polygons)\n",
    "\n",
    "# Save the layer as .shp file\n",
    "gdf.to_file('vegetation_polygons.shp')"
   ]
  },
  {
   "cell_type": "markdown",
   "id": "8d7b2d45",
   "metadata": {},
   "source": [
    "### Area Estimation"
   ]
  },
  {
   "cell_type": "code",
   "execution_count": null,
   "id": "112ce205",
   "metadata": {},
   "outputs": [],
   "source": [
    "# Open the attributes table of the vegetation polygons shape layer\n",
    "gdf = gpd.read_file('vegetation_polygons.shp')\n",
    "\n",
    "# Create a new field named \"area\" and calculate the area of the polygons\n",
    "gdf['area'] = gdf.geometry.area\n",
    "\n",
    "# Save the updated layer as .shp file\n",
    "gdf.to_file('vegetation_polygons_area.shp')"
   ]
  },
  {
   "cell_type": "markdown",
   "id": "fbfe7a55",
   "metadata": {},
   "source": [
    "### Width Analysis"
   ]
  },
  {
   "cell_type": "code",
   "execution_count": null,
   "id": "dc46b5fa",
   "metadata": {},
   "outputs": [],
   "source": [
    "# Calculate the height of the vegetation\n",
    "veg_height = dsm.read(1) - dtm.read(1)\n",
    "\n",
    "# Calculate the width of the vegetation\n",
    "drone_width = 1.5  # in meters\n",
    "veg_width = np.true_divide(veg_height, np.max(veg_height)) * drone_width\n",
    "\n",
    "# Highlight regions where the bush width significantly deviates from the standard range\n",
    "deviant_polygons = ..."
   ]
  },
  {
   "cell_type": "markdown",
   "id": "58a7098e",
   "metadata": {},
   "source": [
    "### Navigation Aid for Tea Rover"
   ]
  },
  {
   "cell_type": "code",
   "execution_count": null,
   "id": "f1e1e102",
   "metadata": {},
   "outputs": [],
   "source": [
    "# Create a GeoDataFrame with the start and end points\n",
    "start_point = ...\n",
    "end_point = ...\n",
    "gdf = gpd.GeoDataFrame(geometry=[start_point, end_point])\n",
    "\n",
    "# Use ORS tools to calculate the shortest path\n",
    "# Save the file in .shp format\n",
    "gdf.to_file('tea_rover_path.shp')"
   ]
  }
 ],
 "metadata": {
  "kernelspec": {
   "display_name": "Python 3 (ipykernel)",
   "language": "python",
   "name": "python3"
  },
  "language_info": {
   "codemirror_mode": {
    "name": "ipython",
    "version": 3
   },
   "file_extension": ".py",
   "mimetype": "text/x-python",
   "name": "python",
   "nbconvert_exporter": "python",
   "pygments_lexer": "ipython3",
   "version": "3.11.5"
  }
 },
 "nbformat": 4,
 "nbformat_minor": 5
}
